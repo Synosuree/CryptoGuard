{
 "cells": [
  {
   "cell_type": "code",
   "execution_count": null,
   "id": "60ca2af7",
   "metadata": {},
   "outputs": [],
   "source": [
    "import os\n",
    "import sys \n",
    "\n",
    "import logging\n",
    "logging.basicConfig(\n",
    "    level=logging.INFO\n",
    ")\n",
    "logger = logging.getLogger(__name__)\n",
    "\n",
    "project_root = os.path.abspath(os.path.join('..'))\n",
    "sys.path.append(project_root)\n",
    "\n",
    "#BinanceAPI\n",
    "from src.api.connector_binance import BinanceClient\n",
    "from src.analysis.data_process_binance import DataProcessor \n",
    "\n",
    "#GeckoAPI\n",
    "from src.api.connector_coingecko import CoinGeckoClient\n",
    "from src.analysis.data_process_coingecko import CoinDataProcessor\n",
    "\n",
    "import matplotlib.pyplot as plt\n",
    "import pandas as pd\n",
    "%matplotlib inline\n"
   ]
  },
  {
   "cell_type": "code",
   "execution_count": 2,
   "id": "0fa8fcc3",
   "metadata": {},
   "outputs": [
    {
     "name": "stderr",
     "output_type": "stream",
     "text": [
      "INFO:src.api.connector_coingecko:CoinGeckoClient inicializado correctamente\n"
     ]
    }
   ],
   "source": [
    "#Binance\n",
    "bi_client = BinanceClient()\n",
    "bi_processor = DataProcessor()\n",
    "\n",
    "#CoinGecko\n",
    "ge_client = CoinGeckoClient()\n",
    "ge_processor = CoinDataProcessor()"
   ]
  },
  {
   "cell_type": "code",
   "execution_count": null,
   "id": "aef09705",
   "metadata": {},
   "outputs": [
    {
     "name": "stderr",
     "output_type": "stream",
     "text": [
      "INFO:src.analysis.data_process_binance:Escalando columnas numéricas del dataframe de binance\n",
      "INFO:src.analysis.data_process_binance:Escalado compltado para columnas ['log_returns', 'taker_buy_ratio', 'liquidity_gap', 'garch_volatility', 'macd', 'sma_20']\n"
     ]
    },
    {
     "name": "stdout",
     "output_type": "stream",
     "text": [
      "                   open      high       low     close       volume  \\\n",
      "timestamp                                                            \n",
      "1723939200000  59491.99  60284.99  58408.92  58427.35  13634.85717   \n",
      "1724025600000  58427.35  59617.63  57787.30  59438.50  22809.31251   \n",
      "1724112000000  59438.50  61400.00  58548.23  59013.80  31477.44548   \n",
      "1724198400000  59013.80  61820.93  58783.47  61156.03  27983.64220   \n",
      "1724284800000  61156.03  61400.00  59724.87  60375.84  21241.20588   \n",
      "\n",
      "                  close_time  quote_volume   trades  taker_buy_base  \\\n",
      "timestamp                                                             \n",
      "1723939200000  1724025599999  8.131666e+08  1099730      6660.58254   \n",
      "1724025600000  1724111999999  1.336288e+09  1636295     11350.30776   \n",
      "1724112000000  1724198399999  1.890620e+09  1904519     16041.22019   \n",
      "1724198400000  1724284799999  1.682530e+09  1981525     14156.90984   \n",
      "1724284800000  1724371199999  1.288544e+09  1718280     10269.33376   \n",
      "\n",
      "               taker_buy_quote  ... timestamps log_returns  taker_buy_ratio  \\\n",
      "timestamp                       ...                                           \n",
      "1723939200000     3.974595e+08  ... 2024-08-18    0.380147         0.529638   \n",
      "1724025600000     6.650662e+08  ... 2024-08-19    0.568178         0.581264   \n",
      "1724112000000     9.641805e+08  ... 2024-08-20    0.438276         0.652387   \n",
      "1724198400000     8.518297e+08  ... 2024-08-21    0.666953         0.630954   \n",
      "1724284800000     6.230420e+08  ... 2024-08-22    0.408009         0.499207   \n",
      "\n",
      "               liquidity_gap  price_spread    sma_20        ema_12  \\\n",
      "timestamp                                                            \n",
      "1723939200000       0.193776      -1064.64  0.034170  59071.713917   \n",
      "1724025600000       0.183959       1011.15  0.028582  59129.884924   \n",
      "1724112000000       0.314759       -424.70  0.023934  59111.561300   \n",
      "1724198400000       0.324784       2142.23  0.020458  59432.988080   \n",
      "1724284800000       0.161211       -780.19  0.019529  59580.723039   \n",
      "\n",
      "                     ema_26      macd  garch_volatility  \n",
      "timestamp                                                \n",
      "1723939200000  59359.895376  0.306600          0.296325  \n",
      "1724025600000  59367.161372  0.311433          0.277464  \n",
      "1724112000000  59335.086607  0.312738          0.248220  \n",
      "1724198400000  59497.660044  0.327817          0.213015  \n",
      "1724284800000  59574.889435  0.334510          0.256018  \n",
      "\n",
      "[5 rows x 21 columns]\n"
     ]
    }
   ],
   "source": [
    "binance_data = bi_client.getHistoricalData('BTCUSDT', '1d', 365)\n",
    "df_bi = bi_processor.full_pipeline(binance_data)\n",
    "df_bi['timestamps'] = pd.to_datetime\n"
   ]
  }
 ],
 "metadata": {
  "kernelspec": {
   "display_name": "crypto_guard (3.13.5)",
   "language": "python",
   "name": "python3"
  },
  "language_info": {
   "codemirror_mode": {
    "name": "ipython",
    "version": 3
   },
   "file_extension": ".py",
   "mimetype": "text/x-python",
   "name": "python",
   "nbconvert_exporter": "python",
   "pygments_lexer": "ipython3",
   "version": "3.13.5"
  }
 },
 "nbformat": 4,
 "nbformat_minor": 5
}
